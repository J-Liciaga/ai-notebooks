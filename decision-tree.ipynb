{
 "cells": [
  {
   "cell_type": "markdown",
   "metadata": {},
   "source": [
    "# Decision Tree\n",
    "\n",
    "## Implementation Details\n",
    "- DecisionNode class represents a node in the decision tree\n",
    "- DecisionTreeClassifier class implements the decision tree algorithm\n",
    "- The `fit` method trains the model by recursively growing the tree\n",
    "- The `predict` method makes predictions by traversing the tree\n",
    "- The `_best_split` method finds the best split for the data\n",
    "- The `_grow_tree` method grows the tree by recursively splitting the data\n",
    "- The `_entropy` method calculates the entropy of the data\n",
    "- Gini impurity is used as the splitting criterion\n",
    "\n",
    "\n",
    "Todo:\n",
    "- Regression\n",
    "- Multi-Class classification\n",
    "- Entropy\n",
    "- Pruning\n",
    "- Feature Importance\n",
    "- Handling Missing Values\n",
    "- Handling Categorical Variables\n",
    "- Handling Imbalanced Data\n",
    "- Handling High-Dimensional Data"
   ]
  },
  {
   "cell_type": "code",
   "execution_count": 1,
   "metadata": {},
   "outputs": [
    {
     "name": "stdout",
     "output_type": "stream",
     "text": [
      "Requirement already satisfied: torch in /opt/homebrew/Cellar/jupyterlab/4.1.6_1/libexec/lib/python3.12/site-packages (2.4.1)\n",
      "Requirement already satisfied: numpy in /opt/homebrew/Cellar/jupyterlab/4.1.6_1/libexec/lib/python3.12/site-packages (1.26.4)\n",
      "Requirement already satisfied: filelock in /opt/homebrew/Cellar/jupyterlab/4.1.6_1/libexec/lib/python3.12/site-packages (from torch) (3.14.0)\n",
      "Requirement already satisfied: typing-extensions>=4.8.0 in /opt/homebrew/Cellar/jupyterlab/4.1.6_1/libexec/lib/python3.12/site-packages (from torch) (4.12.1)\n",
      "Requirement already satisfied: sympy in /opt/homebrew/Cellar/jupyterlab/4.1.6_1/libexec/lib/python3.12/site-packages (from torch) (1.13.3)\n",
      "Requirement already satisfied: networkx in /opt/homebrew/Cellar/jupyterlab/4.1.6_1/libexec/lib/python3.12/site-packages (from torch) (3.4.1)\n",
      "Requirement already satisfied: jinja2 in /opt/homebrew/Cellar/jupyterlab/4.1.6_1/libexec/lib/python3.12/site-packages (from torch) (3.1.4)\n",
      "Requirement already satisfied: fsspec in /opt/homebrew/Cellar/jupyterlab/4.1.6_1/libexec/lib/python3.12/site-packages (from torch) (2024.6.0)\n",
      "Requirement already satisfied: setuptools in /opt/homebrew/Cellar/jupyterlab/4.1.6_1/libexec/lib/python3.12/site-packages (from torch) (75.1.0)\n",
      "Requirement already satisfied: MarkupSafe>=2.0 in /opt/homebrew/Cellar/jupyterlab/4.1.6_1/libexec/lib/python3.12/site-packages (from jinja2->torch) (2.1.5)\n",
      "Requirement already satisfied: mpmath<1.4,>=1.1.0 in /opt/homebrew/Cellar/jupyterlab/4.1.6_1/libexec/lib/python3.12/site-packages (from sympy->torch) (1.3.0)\n",
      "Note: you may need to restart the kernel to use updated packages.\n"
     ]
    }
   ],
   "source": [
    "%pip install torch numpy"
   ]
  },
  {
   "cell_type": "code",
   "execution_count": 2,
   "metadata": {},
   "outputs": [],
   "source": [
    "import torch\n",
    "import numpy as np\n"
   ]
  },
  {
   "cell_type": "code",
   "execution_count": 3,
   "metadata": {},
   "outputs": [],
   "source": [
    "class DecisionNode:\n",
    "    def __init__(self, feature_index=None, threshold=None, left=None, right=None, value=None):\n",
    "        self.feature_index = feature_index\n",
    "        self.threshold = threshold\n",
    "        self.left = left\n",
    "        self.right = right\n",
    "        self.value = value\n",
    "\n",
    "class DecisionTreeClassifier:\n",
    "    def __init__(self, max_depth=None):\n",
    "        self.max_depth = max_depth\n",
    "        self.root = None\n",
    "        self.feature_names = None\n",
    "\n",
    "    def fit(self, X, y, feature_names=None):\n",
    "        self.n_classes = len(torch.unique(y))\n",
    "        self.n_features = X.shape[1]\n",
    "        self.feature_names = feature_names if feature_names is not None else [f\"feature_{i}\" for i in range(self.n_features)]\n",
    "        self.root = self._grow_tree(X, y)\n",
    "        if self.root is None:\n",
    "            raise ValueError(\"Failed to build the tree. Check your data and parameters.\")\n",
    "\n",
    "    def _grow_tree(self, X, y, depth=0):\n",
    "        n_samples, n_features = X.shape\n",
    "        n_labels = len(torch.unique(y))\n",
    "\n",
    "        if (self.max_depth is not None and depth >= self.max_depth) or n_labels == 1 or n_samples < 2:\n",
    "            return DecisionNode(value=self._leaf_value(y))\n",
    "\n",
    "        best_feature, best_threshold = self._best_split(X, y)\n",
    "        \n",
    "        if best_feature is None:\n",
    "            return DecisionNode(value=self._leaf_value(y))\n",
    "\n",
    "        left_idxs = X[:, best_feature] < best_threshold\n",
    "        right_idxs = ~left_idxs\n",
    "\n",
    "        left = self._grow_tree(X[left_idxs], y[left_idxs], depth+1)\n",
    "        right = self._grow_tree(X[right_idxs], y[right_idxs], depth+1)\n",
    "\n",
    "        return DecisionNode(best_feature, best_threshold, left, right)\n",
    "\n",
    "    def _best_split(self, X, y):\n",
    "        best_gain = -float('inf')\n",
    "        best_feature, best_threshold = None, None\n",
    "\n",
    "        for feature in range(self.n_features):\n",
    "            thresholds = torch.unique(X[:, feature])\n",
    "            for threshold in thresholds:\n",
    "                gain = self._information_gain(X[:, feature], y, threshold)\n",
    "                if gain > best_gain:\n",
    "                    best_gain = gain\n",
    "                    best_feature = feature\n",
    "                    best_threshold = threshold\n",
    "\n",
    "        return best_feature, best_threshold\n",
    "\n",
    "    def _information_gain(self, X_column, y, threshold):\n",
    "        parent_entropy = self._entropy(y)\n",
    "\n",
    "        left_idxs = X_column < threshold\n",
    "        right_idxs = ~left_idxs\n",
    "\n",
    "        n = len(y)\n",
    "        n_l, n_r = left_idxs.sum().item(), right_idxs.sum().item()\n",
    "\n",
    "        if n_l == 0 or n_r == 0:\n",
    "            return 0\n",
    "\n",
    "        e_l, e_r = self._entropy(y[left_idxs]), self._entropy(y[right_idxs])\n",
    "        child_entropy = (n_l / n) * e_l + (n_r / n) * e_r\n",
    "\n",
    "        return parent_entropy - child_entropy\n",
    "\n",
    "    def _entropy(self, y):\n",
    "        _, counts = torch.unique(y, return_counts=True)\n",
    "        probabilities = counts.float() / len(y)\n",
    "        return -torch.sum(probabilities * torch.log2(probabilities + 1e-9))\n",
    "\n",
    "    def _leaf_value(self, y):\n",
    "        return torch.argmax(torch.bincount(y)).item()\n",
    "\n",
    "    def predict(self, X):\n",
    "        return torch.tensor([self._traverse_tree(x, self.root) for x in X])\n",
    "\n",
    "    def _traverse_tree(self, x, node):\n",
    "        if node.value is not None:\n",
    "            return node.value\n",
    "        if x[node.feature_index] < node.threshold:\n",
    "            return self._traverse_tree(x, node.left)\n",
    "        return self._traverse_tree(x, node.right)\n"
   ]
  },
  {
   "cell_type": "code",
   "execution_count": 4,
   "metadata": {},
   "outputs": [
    {
     "name": "stdout",
     "output_type": "stream",
     "text": [
      "\n",
      "Predictions: tensor([0, 1])\n"
     ]
    }
   ],
   "source": [
    "# generate sample data\n",
    "X = torch.tensor([[1, 2], [3, 4], [5, 6], [7, 8]], dtype=torch.float32)\n",
    "y = torch.tensor([0, 0, 1, 1])\n",
    "\n",
    "model = DecisionTreeClassifier(max_depth=2)\n",
    "model.fit(X, y, feature_names=['Feature A', 'Feature B'])\n",
    "\n",
    "# predict\n",
    "X_test = torch.tensor([[2, 3], [6, 7]], dtype=torch.float32)\n",
    "predictions = model.predict(X_test)\n",
    "print(\"\\nPredictions:\", predictions)\n"
   ]
  }
 ],
 "metadata": {
  "kernelspec": {
   "display_name": "Python 3 (ipykernel)",
   "language": "python",
   "name": "python3"
  },
  "language_info": {
   "codemirror_mode": {
    "name": "ipython",
    "version": 3
   },
   "file_extension": ".py",
   "mimetype": "text/x-python",
   "name": "python",
   "nbconvert_exporter": "python",
   "pygments_lexer": "ipython3",
   "version": "3.12.7"
  }
 },
 "nbformat": 4,
 "nbformat_minor": 4
}
