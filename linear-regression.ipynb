{
 "cells": [
  {
   "cell_type": "markdown",
   "metadata": {},
   "source": [
    "# Linear Regression\n",
    "\n",
    "Models the relationship between a dependent variable and one or more independent variables by fitting a linear equation to the observed data. The goal is to find the best-fitting line that minimizes the error between the predicted and actual values."
   ]
  },
  {
   "cell_type": "code",
   "execution_count": 1,
   "metadata": {},
   "outputs": [],
   "source": [
    "import torch\n",
    "import torch.nn as nn\n",
    "import torch.optim as optim\n",
    "import numpy as np\n",
    "import matplotlib.pyplot as plt\n"
   ]
  },
  {
   "cell_type": "code",
   "execution_count": 2,
   "metadata": {},
   "outputs": [],
   "source": [
    "torch.manual_seed(14)\n",
    "np.random.seed(14)\n",
    "\n",
    "# generate sample data\n",
    "X = torch.arange(1, 100, dtype=torch.float32).view(-1, 1) * 10\n",
    "y  = 2 * X + 1 + torch.arange(1, 100, dtype=torch.float32).view(-1, 1)\n"
   ]
  },
  {
   "cell_type": "code",
   "execution_count": 3,
   "metadata": {},
   "outputs": [],
   "source": [
    "# define model\n",
    "class LinearRegressionModel(nn.Module):\n",
    "    def __init__(self):\n",
    "        super(LinearRegressionModel, self).__init__()\n",
    "        self.linear = nn.Linear(1, 1)\n",
    "\n",
    "    def forward(self, x):\n",
    "        return self.linear(x)\n",
    "\n",
    "# instantiate model\n",
    "model = LinearRegressionModel()\n",
    "\n",
    "# define loss function and optimizer\n",
    "lossfn = nn.MSELoss()\n",
    "optimizer = optim.Adam(model.parameters(), lr=0.01)\n"
   ]
  },
  {
   "cell_type": "code",
   "execution_count": 4,
   "metadata": {},
   "outputs": [
    {
     "name": "stdout",
     "output_type": "stream",
     "text": [
      "Epoch: [10/500], Loss: 1164775.1250\n",
      "Epoch: [20/500], Loss: 1044759.9375\n",
      "Epoch: [30/500], Loss: 933099.8125\n",
      "Epoch: [40/500], Loss: 830091.6875\n",
      "Epoch: [50/500], Loss: 735690.5625\n",
      "Epoch: [60/500], Loss: 649629.6875\n",
      "Epoch: [70/500], Loss: 571521.6250\n",
      "Epoch: [80/500], Loss: 500922.5000\n",
      "Epoch: [90/500], Loss: 437365.0000\n",
      "Epoch: [100/500], Loss: 380376.5625\n",
      "Epoch: [110/500], Loss: 329487.1250\n",
      "Epoch: [120/500], Loss: 284235.2500\n",
      "Epoch: [130/500], Loss: 244170.2500\n",
      "Epoch: [140/500], Loss: 208854.9062\n",
      "Epoch: [150/500], Loss: 177868.1875\n",
      "Epoch: [160/500], Loss: 150806.2188\n",
      "Epoch: [170/500], Loss: 127284.6094\n",
      "Epoch: [180/500], Loss: 106939.5547\n",
      "Epoch: [190/500], Loss: 89429.3125\n",
      "Epoch: [200/500], Loss: 74434.6641\n",
      "Epoch: [210/500], Loss: 61659.8281\n",
      "Epoch: [220/500], Loss: 50832.4648\n",
      "Epoch: [230/500], Loss: 41703.5938\n",
      "Epoch: [240/500], Loss: 34047.3555\n",
      "Epoch: [250/500], Loss: 27660.3535\n",
      "Epoch: [260/500], Loss: 22360.6348\n",
      "Epoch: [270/500], Loss: 17986.7168\n",
      "Epoch: [280/500], Loss: 14396.3584\n",
      "Epoch: [290/500], Loss: 11465.1152\n",
      "Epoch: [300/500], Loss: 9084.9736\n",
      "Epoch: [310/500], Loss: 7162.7778\n",
      "Epoch: [320/500], Loss: 5618.8423\n",
      "Epoch: [330/500], Loss: 4385.4741\n",
      "Epoch: [340/500], Loss: 3405.5381\n",
      "Epoch: [350/500], Loss: 2631.1631\n",
      "Epoch: [360/500], Loss: 2022.5533\n",
      "Epoch: [370/500], Loss: 1546.8552\n",
      "Epoch: [380/500], Loss: 1177.0190\n",
      "Epoch: [390/500], Loss: 891.0396\n",
      "Epoch: [400/500], Loss: 671.1059\n",
      "Epoch: [410/500], Loss: 502.8810\n",
      "Epoch: [420/500], Loss: 374.8814\n",
      "Epoch: [430/500], Loss: 278.0322\n",
      "Epoch: [440/500], Loss: 205.1324\n",
      "Epoch: [450/500], Loss: 150.5679\n",
      "Epoch: [460/500], Loss: 109.9458\n",
      "Epoch: [470/500], Loss: 79.8669\n",
      "Epoch: [480/500], Loss: 57.7107\n",
      "Epoch: [490/500], Loss: 41.4846\n",
      "Epoch: [500/500], Loss: 29.6644\n",
      "Learned parameters: w = 2.0908, b = 0.9613\n"
     ]
    }
   ],
   "source": [
    "# training loop\n",
    "epochs = 500\n",
    "\n",
    "for epoch in range(epochs):\n",
    "    # forward pass\n",
    "    y_pred = model(X)\n",
    "\n",
    "    # compute loss\n",
    "    loss = lossfn(y_pred, y)\n",
    "\n",
    "    # backpropagation\n",
    "    optimizer.zero_grad()\n",
    "    loss.backward()\n",
    "    optimizer.step()\n",
    "\n",
    "    if (epoch + 1) % 10 == 0:\n",
    "        print(f\"Epoch: [{epoch + 1}/{epochs}], Loss: {loss.item():.4f}\")\n",
    "\n",
    "# get the parameters\n",
    "[w, b] = model.parameters()\n",
    "print(f\"Learned parameters: w = {w.item():.4f}, b = {b.item():.4f}\") \n"
   ]
  },
  {
   "cell_type": "code",
   "execution_count": 5,
   "metadata": {},
   "outputs": [
    {
     "data": {
      "image/png": "[encoded data removed]",
      "text/plain": [
       "<Figure size 640x480 with 1 Axes>"
      ]
     },
     "metadata": {},
     "output_type": "display_data"
    }
   ],
   "source": [
    "# make predictions\n",
    "with torch.no_grad():\n",
    "    y_pred = model(X)\n",
    "\n",
    "# plot results\n",
    "plt.scatter(X, y, label=\"Data\")\n",
    "plt.plot(X, y_pred.detach().numpy(), label=\"Predictions\", color=\"red\")\n",
    "plt.xlabel(\"X\")\n",
    "plt.ylabel(\"y\")\n",
    "plt.legend()\n",
    "plt.show()\n"
   ]
  },
  {
   "cell_type": "code",
   "execution_count": 6,
   "metadata": {},
   "outputs": [
    {
     "name": "stdout",
     "output_type": "stream",
     "text": [
      "R-squared: 0.9999\n"
     ]
    }
   ],
   "source": [
    "# calculate R-squared\n",
    "y_mean = torch.mean(y)\n",
    "ss_total = torch.sum((y - y_mean) ** 2)\n",
    "ss_res = torch.sum((y - y_pred) ** 2)\n",
    "\n",
    "r2 = 1 - (ss_res / ss_total)\n",
    "\n",
    "print(f\"R-squared: {r2.item():.4f}\")\n"
   ]
  }
 ],
 "metadata": {
  "kernelspec": {
   "display_name": "Python 3 (ipykernel)",
   "language": "python",
   "name": "python3"
  },
  "language_info": {
   "codemirror_mode": {
    "name": "ipython",
    "version": 3
   },
   "file_extension": ".py",
   "mimetype": "text/x-python",
   "name": "python",
   "nbconvert_exporter": "python",
   "pygments_lexer": "ipython3",
   "version": "3.12.7"
  }
 },
 "nbformat": 4,
 "nbformat_minor": 4
}
