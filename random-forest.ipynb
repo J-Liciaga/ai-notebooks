{
 "cells": [
  {
   "cell_type": "code",
   "execution_count": null,
   "metadata": {},
   "outputs": [],
   "source": [
    "%pip install torch scikit-learn"
   ]
  },
  {
   "cell_type": "code",
   "execution_count": null,
   "metadata": {},
   "outputs": [],
   "source": [
    "import torch\n",
    "import torch.nn as nn\n",
    "import torch.optim as optim\n",
    "from sklearn.datasets import make_classification\n",
    "from sklearn.model_selection import train_test_split\n",
    "from sklearn.metrics import accuracy_score\n"
   ]
  },
  {
   "cell_type": "code",
   "execution_count": null,
   "metadata": {},
   "outputs": [],
   "source": [
    "class DecisionTree(nn.Module):\n",
    "    def __init__(self, input_dim, hidden_dim, num_classes):\n",
    "        super(DecisionTree, self).__init__()\n",
    "        self.fc1 = nn.Linear(input_dim, hidden_dim)\n",
    "        self.fc2 = nn.Linear(hidden_dim, num_classes)\n",
    "        self.relu = nn.ReLU()\n",
    "\n",
    "    def forward(self, x):\n",
    "        x = self.relu(self.fc1(x))\n",
    "        x = self.fc2(x)\n",
    "        return x\n",
    "\n",
    "class RandomForest(nn.Module):\n",
    "    def __init__(self, input_dim, hidden_dim, num_classes, num_trees):\n",
    "        super(RandomForest, self).__init__()\n",
    "        self.trees = nn.ModuleList([DecisionTree(input_dim, hidden_dim, num_classes) for _ in range(num_trees)])\n",
    "    \n",
    "    def forward(self, x):\n",
    "        tree_outputs = [tree(x) for tree in self.trees]\n",
    "        return torch.mean(torch.stack(tree_outputs), dim=0)\n"
   ]
  },
  {
   "cell_type": "code",
   "execution_count": null,
   "metadata": {},
   "outputs": [],
   "source": [
    "# generate a random dataset\n",
    "X, y = make_classification(n_samples=1000, n_features=20, n_classes=2, random_state=14)\n",
    "X = torch.FloatTensor(X)\n",
    "y = torch.LongTensor(y)\n",
    "\n",
    "X_train, X_test, y_train, y_test = train_test_split(X, y, test_size=0.2, random_state=14)\n"
   ]
  },
  {
   "cell_type": "code",
   "execution_count": null,
   "metadata": {},
   "outputs": [],
   "source": [
    "# set hyperparameters\n",
    "input_dim = X.shape[1]\n",
    "hidden_dim = 100\n",
    "num_classes = 2\n",
    "num_trees = 10\n",
    "lr = 0.01\n",
    "epochs = 200\n",
    "\n",
    "# initialize the model\n",
    "model = RandomForest(input_dim, hidden_dim, num_classes, num_trees)\n",
    "loss_fn = nn.CrossEntropyLoss()\n",
    "optimizer = optim.Adam(model.parameters(), lr)\n"
   ]
  },
  {
   "cell_type": "code",
   "execution_count": null,
   "metadata": {},
   "outputs": [],
   "source": [
    "# training loop\n",
    "for epoch in range(epochs):\n",
    "    model.train()\n",
    "    optimizer.zero_grad()\n",
    "    outputs = model(X_train)\n",
    "    loss = loss_fn(outputs, y_train)\n",
    "    loss.backward()\n",
    "    optimizer.step()\n",
    "\n",
    "    if (epoch + 1) % 10 == 0:\n",
    "        print(f'Epoch [{epoch+1}/{epochs}], Loss: {loss.item():.4f}')\n",
    "\n",
    "# evaluate the model\n",
    "model.eval()\n",
    "\n",
    "with torch.no_grad():\n",
    "    y_pred = model(X_test).argmax(dim=1)\n",
    "    accuracy = accuracy_score(y_test, y_pred)\n",
    "    print(f'Test Accuracy: {accuracy:.4f}')\n",
    "\n",
    "# feature importance\n",
    "feature_importance = torch.zeros(input_dim)\n",
    "\n",
    "for tree in model.trees:\n",
    "    feature_importance += torch.abs(tree.fc1.weight).sum(dim=0)\n",
    "\n",
    "feature_importance /= num_trees\n"
   ]
  },
  {
   "cell_type": "code",
   "execution_count": null,
   "metadata": {},
   "outputs": [],
   "source": [
    "# print top 5 important features\n",
    "top_features = torch.argsort(feature_importance, descending=True)[:5]\n",
    "\n",
    "print(\"Top 5 most important features:\")\n",
    "for idx in top_features:\n",
    "    print(f\"Feature {idx}: {feature_importance[idx].item():.4f}\")"
   ]
  }
 ],
 "metadata": {
  "language_info": {
   "name": "python"
  }
 },
 "nbformat": 4,
 "nbformat_minor": 2
}
